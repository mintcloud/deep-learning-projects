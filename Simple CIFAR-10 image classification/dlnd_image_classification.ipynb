{
 "cells": [
  {
   "cell_type": "markdown",
   "metadata": {
    "collapsed": true
   },
   "source": [
    "# Image Classification\n",
    "In this project, you'll classify images from the [CIFAR-10 dataset](https://www.cs.toronto.edu/~kriz/cifar.html).  The dataset consists of airplanes, dogs, cats, and other objects. You'll preprocess the images, then train a convolutional neural network on all the samples. The images need to be normalized and the labels need to be one-hot encoded.  You'll get to apply what you learned and build a convolutional, max pooling, dropout, and fully connected layers.  At the end, you'll get to see your neural network's predictions on the sample images.\n",
    "## Get the Data\n",
    "Run the following cell to download the [CIFAR-10 dataset for python](https://www.cs.toronto.edu/~kriz/cifar-10-python.tar.gz)."
   ]
  },
  {
   "cell_type": "code",
   "execution_count": null,
   "metadata": {
    "collapsed": false
   },
   "outputs": [],
   "source": [
    "\"\"\"\n",
    "DON'T MODIFY ANYTHING IN THIS CELL THAT IS BELOW THIS LINE\n",
    "\"\"\"\n",
    "from urllib.request import urlretrieve\n",
    "from os.path import isfile, isdir\n",
    "from tqdm import tqdm\n",
    "import problem_unittests as tests\n",
    "import tarfile\n",
    "\n",
    "cifar10_dataset_folder_path = 'cifar-10-batches-py'\n",
    "\n",
    "class DLProgress(tqdm):\n",
    "    last_block = 0\n",
    "\n",
    "    def hook(self, block_num=1, block_size=1, total_size=None):\n",
    "        self.total = total_size\n",
    "        self.update((block_num - self.last_block) * block_size)\n",
    "        self.last_block = block_num\n",
    "\n",
    "if not isfile('cifar-10-python.tar.gz'):\n",
    "    with DLProgress(unit='B', unit_scale=True, miniters=1, desc='CIFAR-10 Dataset') as pbar:\n",
    "        urlretrieve(\n",
    "            'https://www.cs.toronto.edu/~kriz/cifar-10-python.tar.gz',\n",
    "            'cifar-10-python.tar.gz',\n",
    "            pbar.hook)\n",
    "\n",
    "if not isdir(cifar10_dataset_folder_path):\n",
    "    with tarfile.open('cifar-10-python.tar.gz') as tar:\n",
    "        tar.extractall()\n",
    "        tar.close()\n",
    "\n",
    "\n",
    "tests.test_folder_path(cifar10_dataset_folder_path)"
   ]
  },
  {
   "cell_type": "markdown",
   "metadata": {},
   "source": [
    "## Explore the Data\n",
    "The dataset is broken into batches to prevent your machine from running out of memory.  The CIFAR-10 dataset consists of 5 batches, named `data_batch_1`, `data_batch_2`, etc.. Each batch contains the labels and images that are one of the following:\n",
    "* airplane\n",
    "* automobile\n",
    "* bird\n",
    "* cat\n",
    "* deer\n",
    "* dog\n",
    "* frog\n",
    "* horse\n",
    "* ship\n",
    "* truck\n",
    "\n",
    "Understanding a dataset is part of making predictions on the data.  Play around with the code cell below by changing the `batch_id` and `sample_id`. The `batch_id` is the id for a batch (1-5). The `sample_id` is the id for a image and label pair in the batch.\n",
    "\n",
    "Ask yourself \"What are all possible labels?\", \"What is the range of values for the image data?\", \"Are the labels in order or random?\".  Answers to questions like these will help you preprocess the data and end up with better predictions."
   ]
  },
  {
   "cell_type": "code",
   "execution_count": null,
   "metadata": {
    "collapsed": false
   },
   "outputs": [],
   "source": [
    "%matplotlib inline\n",
    "%config InlineBackend.figure_format = 'retina'\n",
    "\n",
    "import helper\n",
    "import numpy as np\n",
    "\n",
    "# Explore the dataset\n",
    "batch_id = 1\n",
    "sample_id = 100\n",
    "helper.display_stats(cifar10_dataset_folder_path, batch_id, sample_id)"
   ]
  },
  {
   "cell_type": "markdown",
   "metadata": {},
   "source": [
    "## Implement Preprocess Functions\n",
    "### Normalize\n",
    "In the cell below, implement the `normalize` function to take in image data, `x`, and return it as a normalized Numpy array. The values should be in the range of 0 to 1, inclusive.  The return object should be the same shape as `x`."
   ]
  },
  {
   "cell_type": "code",
   "execution_count": 134,
   "metadata": {
    "collapsed": false
   },
   "outputs": [
    {
     "name": "stdout",
     "output_type": "stream",
     "text": [
      "Tests Passed\n"
     ]
    }
   ],
   "source": [
    "def normalize(x):\n",
    "    \"\"\"\n",
    "    Normalize a list of sample image data in the range of 0 to 1\n",
    "    : x: List of image data.  The image shape is (32, 32, 3)\n",
    "    : return: Numpy array of normalize data\n",
    "    \"\"\"\n",
    "    # TODO: Implement Function\n",
    "    return (x-np.amin(x,axis=0))/(np.amax(x,axis=0)-np.amin(x,axis=0))\n",
    "\n",
    "\n",
    "\"\"\"\n",
    "DON'T MODIFY ANYTHING IN THIS CELL THAT IS BELOW THIS LINE\n",
    "\"\"\"\n",
    "tests.test_normalize(normalize)"
   ]
  },
  {
   "cell_type": "markdown",
   "metadata": {},
   "source": [
    "### One-hot encode\n",
    "Just like the previous code cell, you'll be implementing a function for preprocessing.  This time, you'll implement the `one_hot_encode` function. The input, `x`, are a list of labels.  Implement the function to return the list of labels as One-Hot encoded Numpy array.  The possible values for labels are 0 to 9. The one-hot encoding function should return the same encoding for each value between each call to `one_hot_encode`.  Make sure to save the map of encodings outside the function.\n",
    "\n",
    "Hint: Don't reinvent the wheel."
   ]
  },
  {
   "cell_type": "code",
   "execution_count": null,
   "metadata": {
    "collapsed": true
   },
   "outputs": [],
   "source": [
    "from sklearn.preprocessing import LabelBinarizer\n"
   ]
  },
  {
   "cell_type": "code",
   "execution_count": null,
   "metadata": {
    "collapsed": false
   },
   "outputs": [],
   "source": [
    "encoder = LabelBinarizer()\n",
    "encoder.fit(np.arange(10))\n",
    "def one_hot_encode(x):\n",
    "    \"\"\"\n",
    "    One hot encode a list of sample labels. Return a one-hot encoded vector for each label.\n",
    "    : x: List of sample Labels\n",
    "    : return: Numpy array of one-hot encoded labels\n",
    "    \"\"\"\n",
    "    return encoder.transform(x)\n",
    "\n",
    "\"\"\"\n",
    "DON'T MODIFY ANYTHING IN THIS CELL THAT IS BELOW THIS LINE\n",
    "\"\"\"\n",
    "tests.test_one_hot_encode(one_hot_encode)"
   ]
  },
  {
   "cell_type": "markdown",
   "metadata": {},
   "source": [
    "### Randomize Data\n",
    "As you saw from exploring the data above, the order of the samples are randomized.  It doesn't hurt to randomize it again, but you don't need to for this dataset."
   ]
  },
  {
   "cell_type": "markdown",
   "metadata": {},
   "source": [
    "## Preprocess all the data and save it\n",
    "Running the code cell below will preprocess all the CIFAR-10 data and save it to file. The code below also uses 10% of the training data for validation."
   ]
  },
  {
   "cell_type": "code",
   "execution_count": null,
   "metadata": {
    "collapsed": false
   },
   "outputs": [],
   "source": [
    "\"\"\"\n",
    "DON'T MODIFY ANYTHING IN THIS CELL\n",
    "\"\"\"\n",
    "# Preprocess Training, Validation, and Testing Data\n",
    "helper.preprocess_and_save_data(cifar10_dataset_folder_path, normalize, one_hot_encode)"
   ]
  },
  {
   "cell_type": "markdown",
   "metadata": {},
   "source": [
    "# Check Point\n",
    "This is your first checkpoint.  If you ever decide to come back to this notebook or have to restart the notebook, you can start from here.  The preprocessed data has been saved to disk."
   ]
  },
  {
   "cell_type": "code",
   "execution_count": 13,
   "metadata": {
    "collapsed": true
   },
   "outputs": [],
   "source": [
    "\"\"\"\n",
    "DON'T MODIFY ANYTHING IN THIS CELL\n",
    "\"\"\"\n",
    "import pickle\n",
    "import problem_unittests as tests\n",
    "import helper\n",
    "import numpy as np\n",
    "\n",
    "# Load the Preprocessed Validation data\n",
    "valid_features, valid_labels = pickle.load(open('preprocess_validation.p', mode='rb'))"
   ]
  },
  {
   "cell_type": "markdown",
   "metadata": {},
   "source": [
    "## Build the network\n",
    "For the neural network, you'll build each layer into a function.  Most of the code you've seen has been outside of functions. To test your code more thoroughly, we require that you put each layer in a function.  This allows us to give you better feedback and test for simple mistakes using our unittests before you submit your project.\n",
    "\n",
    ">**Note:** If you're finding it hard to dedicate enough time for this course each week, we've provided a small shortcut to this part of the project. In the next couple of problems, you'll have the option to use classes from the [TensorFlow Layers](https://www.tensorflow.org/api_docs/python/tf/layers) or [TensorFlow Layers (contrib)](https://www.tensorflow.org/api_guides/python/contrib.layers) packages to build each layer, except the layers you build in the \"Convolutional and Max Pooling Layer\" section.  TF Layers is similar to Keras's and TFLearn's abstraction to layers, so it's easy to pickup.\n",
    "\n",
    ">However, if you would like to get the most out of this course, try to solve all the problems _without_ using anything from the TF Layers packages. You **can** still use classes from other packages that happen to have the same name as ones you find in TF Layers! For example, instead of using the TF Layers version of the `conv2d` class, [tf.layers.conv2d](https://www.tensorflow.org/api_docs/python/tf/layers/conv2d), you would want to use the TF Neural Network version of `conv2d`, [tf.nn.conv2d](https://www.tensorflow.org/api_docs/python/tf/nn/conv2d). \n",
    "\n",
    "Let's begin!\n",
    "\n",
    "### Input\n",
    "The neural network needs to read the image data, one-hot encoded labels, and dropout keep probability. Implement the following functions\n",
    "* Implement `neural_net_image_input`\n",
    " * Return a [TF Placeholder](https://www.tensorflow.org/api_docs/python/tf/placeholder)\n",
    " * Set the shape using `image_shape` with batch size set to `None`.\n",
    " * Name the TensorFlow placeholder \"x\" using the TensorFlow `name` parameter in the [TF Placeholder](https://www.tensorflow.org/api_docs/python/tf/placeholder).\n",
    "* Implement `neural_net_label_input`\n",
    " * Return a [TF Placeholder](https://www.tensorflow.org/api_docs/python/tf/placeholder)\n",
    " * Set the shape using `n_classes` with batch size set to `None`.\n",
    " * Name the TensorFlow placeholder \"y\" using the TensorFlow `name` parameter in the [TF Placeholder](https://www.tensorflow.org/api_docs/python/tf/placeholder).\n",
    "* Implement `neural_net_keep_prob_input`\n",
    " * Return a [TF Placeholder](https://www.tensorflow.org/api_docs/python/tf/placeholder) for dropout keep probability.\n",
    " * Name the TensorFlow placeholder \"keep_prob\" using the TensorFlow `name` parameter in the [TF Placeholder](https://www.tensorflow.org/api_docs/python/tf/placeholder).\n",
    "\n",
    "These names will be used at the end of the project to load your saved model.\n",
    "\n",
    "Note: `None` for shapes in TensorFlow allow for a dynamic size."
   ]
  },
  {
   "cell_type": "code",
   "execution_count": 14,
   "metadata": {
    "collapsed": false
   },
   "outputs": [
    {
     "data": {
      "text/plain": [
       "<function __main__.neural_net_image_input>"
      ]
     },
     "execution_count": 14,
     "metadata": {},
     "output_type": "execute_result"
    }
   ],
   "source": [
    "import tensorflow as tf\n",
    "tf.reset_default_graph()\n",
    "neural_net_image_input"
   ]
  },
  {
   "cell_type": "code",
   "execution_count": 161,
   "metadata": {
    "collapsed": false
   },
   "outputs": [
    {
     "name": "stdout",
     "output_type": "stream",
     "text": [
      "Image Input Tests Passed.\n",
      "Label Input Tests Passed.\n",
      "Keep Prob Tests Passed.\n"
     ]
    }
   ],
   "source": [
    "import tensorflow as tf\n",
    "\n",
    "def neural_net_image_input(image_shape):\n",
    "    \"\"\"\n",
    "    Return a Tensor for a bach of image input\n",
    "    : image_shape: Shape of the images\n",
    "    : return: Tensor for image input.\n",
    "    \"\"\"\n",
    "    # TODO: Implement Function\n",
    "    return tf.placeholder(tf.float32,[None,image_shape[0],image_shape[1],image_shape[2]],name=\"x\")\n",
    "\n",
    "def neural_net_label_input(n_classes):\n",
    "    \"\"\"\n",
    "    Return a Tensor for a batch of label input\n",
    "    : n_classes: Number of classes\n",
    "    : return: Tensor for label input.\n",
    "    \"\"\"\n",
    "    # TODO: Implement Function\n",
    "    return tf.placeholder(tf.float32, [None,n_classes],name=\"y\")\n",
    "\n",
    "\n",
    "def neural_net_keep_prob_input():\n",
    "    \"\"\"\n",
    "    Return a Tensor for keep probability\n",
    "    : return: Tensor for keep probability.\n",
    "    \"\"\"\n",
    "    # TODO: Implement Function\n",
    "    return tf.placeholder(tf.float32,name=\"keep_prob\")\n",
    "\n",
    "\n",
    "\"\"\"\n",
    "DON'T MODIFY ANYTHING IN THIS CELL THAT IS BELOW THIS LINE\n",
    "\"\"\"\n",
    "tf.reset_default_graph()\n",
    "tests.test_nn_image_inputs(neural_net_image_input)\n",
    "tests.test_nn_label_inputs(neural_net_label_input)\n",
    "tests.test_nn_keep_prob_inputs(neural_net_keep_prob_input)"
   ]
  },
  {
   "cell_type": "markdown",
   "metadata": {},
   "source": [
    "### Convolution and Max Pooling Layer\n",
    "Convolution layers have a lot of success with images. For this code cell, you should implement the function `conv2d_maxpool` to apply convolution then max pooling:\n",
    "* Create the weight and bias using `conv_ksize`, `conv_num_outputs` and the shape of `x_tensor`.\n",
    "* Apply a convolution to `x_tensor` using weight and `conv_strides`.\n",
    " * We recommend you use same padding, but you're welcome to use any padding.\n",
    "* Add bias\n",
    "* Add a nonlinear activation to the convolution.\n",
    "* Apply Max Pooling using `pool_ksize` and `pool_strides`.\n",
    " * We recommend you use same padding, but you're welcome to use any padding.\n",
    "\n",
    "**Note:** You **can't** use [TensorFlow Layers](https://www.tensorflow.org/api_docs/python/tf/layers) or [TensorFlow Layers (contrib)](https://www.tensorflow.org/api_guides/python/contrib.layers) for **this** layer, but you can still use TensorFlow's [Neural Network](https://www.tensorflow.org/api_docs/python/tf/nn) package. You may still use the shortcut option for all the **other** layers."
   ]
  },
  {
   "cell_type": "code",
   "execution_count": 170,
   "metadata": {
    "collapsed": false
   },
   "outputs": [
    {
     "name": "stdout",
     "output_type": "stream",
     "text": [
      "Tests Passed\n"
     ]
    }
   ],
   "source": [
    "def conv2d_maxpool(x_tensor, conv_num_outputs, conv_ksize, conv_strides, pool_ksize, pool_strides):\n",
    "    \"\"\"\n",
    "    Apply convolution then max pooling to x_tensor\n",
    "    :param x_tensor: TensorFlow Tensor\n",
    "    :param conv_num_outputs: Number of outputs for the convolutional layer\n",
    "    :param conv_ksize: kernal size 2-D Tuple for the convolutional layer\n",
    "    :param conv_strides: Stride 2-D Tuple for convolution\n",
    "    :param pool_ksize: kernal size 2-D Tuple for pool\n",
    "    :param pool_strides: Stride 2-D Tuple for pool\n",
    "    : return: A tensor that represents convolution and max pooling of x_tensor\n",
    "    \"\"\"\n",
    "    input_image_depth = tf.to_int32(x_tensor.get_shape()[3])\n",
    "    # TODO: Implement Function\n",
    "    weights = tf.Variable(tf.random_normal([\n",
    "        conv_ksize[0], \n",
    "        conv_ksize[1],\n",
    "        input_image_depth,\n",
    "        conv_num_outputs],\n",
    "        stddev=0.1))\n",
    "    bias = tf.Variable(tf.zeros(conv_num_outputs,dtype=tf.float32))\n",
    "    \n",
    "    cv_layer = tf.nn.conv2d(x_tensor, weights, strides=[1, conv_strides[0], conv_strides[1], 1], padding='SAME')\n",
    "    cv_layer = tf.nn.bias_add(cv_layer,bias)\n",
    "    #DEBUG: print('Size before max_pool: ',cv_layer.get_shape())\n",
    "    cv_layer = tf.nn.relu(cv_layer)\n",
    "    cv_layer = tf.nn.max_pool(cv_layer, ksize=[1, pool_ksize[0], pool_ksize[1] , 1],strides=[1, pool_strides[0], pool_strides[1], 1],padding='SAME')\n",
    "    return cv_layer\n",
    "\n",
    "\"\"\"\n",
    "DON'T MODIFY ANYTHING IN THIS CELL THAT IS BELOW THIS LINE\n",
    "\"\"\"\n",
    "tests.test_con_pool(conv2d_maxpool)"
   ]
  },
  {
   "cell_type": "markdown",
   "metadata": {},
   "source": [
    "### Flatten Layer\n",
    "Implement the `flatten` function to change the dimension of `x_tensor` from a 4-D tensor to a 2-D tensor.  The output should be the shape (*Batch Size*, *Flattened Image Size*). Shortcut option: you can use classes from the [TensorFlow Layers](https://www.tensorflow.org/api_docs/python/tf/layers) or [TensorFlow Layers (contrib)](https://www.tensorflow.org/api_guides/python/contrib.layers) packages for this layer. For more of a challenge, only use other TensorFlow packages."
   ]
  },
  {
   "cell_type": "code",
   "execution_count": 104,
   "metadata": {
    "collapsed": false
   },
   "outputs": [
    {
     "name": "stdout",
     "output_type": "stream",
     "text": [
      "Tests Passed\n"
     ]
    }
   ],
   "source": [
    "def flatten(x_tensor):\n",
    "    \"\"\"\n",
    "    Flatten x_tensor to (Batch Size, Flattened Image Size)\n",
    "    : x_tensor: A tensor of size (Batch Size, ...), where ... are the image dimensions.\n",
    "    : return: A tensor of size (Batch Size, Flattened Image Size).\n",
    "    \"\"\"\n",
    "    return tf.reshape(x_tensor, [-1, np.prod(x_tensor.get_shape().as_list()[1:])])\n",
    "\n",
    "\n",
    "\"\"\"\n",
    "DON'T MODIFY ANYTHING IN THIS CELL THAT IS BELOW THIS LINE\n",
    "\"\"\"\n",
    "#print(flatten.get_shape())\n",
    "tests.test_flatten(flatten)"
   ]
  },
  {
   "cell_type": "markdown",
   "metadata": {},
   "source": [
    "### Fully-Connected Layer\n",
    "Implement the `fully_conn` function to apply a fully connected layer to `x_tensor` with the shape (*Batch Size*, *num_outputs*). Shortcut option: you can use classes from the [TensorFlow Layers](https://www.tensorflow.org/api_docs/python/tf/layers) or [TensorFlow Layers (contrib)](https://www.tensorflow.org/api_guides/python/contrib.layers) packages for this layer. For more of a challenge, only use other TensorFlow packages."
   ]
  },
  {
   "cell_type": "code",
   "execution_count": 241,
   "metadata": {
    "collapsed": false
   },
   "outputs": [
    {
     "name": "stdout",
     "output_type": "stream",
     "text": [
      "Tests Passed\n"
     ]
    }
   ],
   "source": [
    "def fully_conn(x_tensor, num_outputs):\n",
    "    \"\"\"\n",
    "    Apply a fully connected layer to x_tensor using weight and bias\n",
    "    : x_tensor: A 2-D tensor where the first dimension is batch size.\n",
    "    : num_outputs: The number of output that the new tensor should be.\n",
    "    : return: A 2-D tensor where the second dimension is num_outputs.\n",
    "    \"\"\"\n",
    "    weights = tf.Variable(tf.random_normal([x_tensor.get_shape().as_list()[1],num_outputs],stddev=0.1))\n",
    "    bias = tf.Variable(tf.zeros(num_outputs,dtype=tf.float32))\n",
    "    \n",
    "    fc_layer = tf.add(tf.matmul(x_tensor, weights), bias)\n",
    "    fc_layer = tf.nn.relu(fc_layer)\n",
    "    return fc_layer\n",
    "\n",
    "\n",
    "\"\"\"\n",
    "DON'T MODIFY ANYTHING IN THIS CELL THAT IS BELOW THIS LINE\n",
    "\"\"\"\n",
    "tests.test_fully_conn(fully_conn)"
   ]
  },
  {
   "cell_type": "markdown",
   "metadata": {},
   "source": [
    "### Output Layer\n",
    "Implement the `output` function to apply a fully connected layer to `x_tensor` with the shape (*Batch Size*, *num_outputs*). Shortcut option: you can use classes from the [TensorFlow Layers](https://www.tensorflow.org/api_docs/python/tf/layers) or [TensorFlow Layers (contrib)](https://www.tensorflow.org/api_guides/python/contrib.layers) packages for this layer. For more of a challenge, only use other TensorFlow packages.\n",
    "\n",
    "**Note:** Activation, softmax, or cross entropy should **not** be applied to this."
   ]
  },
  {
   "cell_type": "code",
   "execution_count": 242,
   "metadata": {
    "collapsed": false
   },
   "outputs": [
    {
     "name": "stdout",
     "output_type": "stream",
     "text": [
      "Tests Passed\n"
     ]
    }
   ],
   "source": [
    "def output(x_tensor, num_outputs):\n",
    "    \"\"\"\n",
    "    Apply a output layer to x_tensor using weight and bias\n",
    "    : x_tensor: A 2-D tensor where the first dimension is batch size.\n",
    "    : num_outputs: The number of output that the new tensor should be.\n",
    "    : return: A 2-D tensor where the second dimension is num_outputs.\n",
    "    \"\"\"\n",
    "    # TODO: Implement Function\n",
    "    weights = tf.Variable(tf.random_normal([x_tensor.get_shape().as_list()[1],num_outputs],stddev=0.1))\n",
    "    bias = tf.Variable(tf.zeros(num_outputs,dtype=tf.float32))\n",
    "    \n",
    "    output = tf.add(tf.matmul(x_tensor, weights), bias)\n",
    "    return output\n",
    "\n",
    "\n",
    "\"\"\"\n",
    "DON'T MODIFY ANYTHING IN THIS CELL THAT IS BELOW THIS LINE\n",
    "\"\"\"\n",
    "tests.test_output(output)"
   ]
  },
  {
   "cell_type": "markdown",
   "metadata": {},
   "source": [
    "### Create Convolutional Model\n",
    "Implement the function `conv_net` to create a convolutional neural network model. The function takes in a batch of images, `x`, and outputs logits.  Use the layers you created above to create this model:\n",
    "\n",
    "* Apply 1, 2, or 3 Convolution and Max Pool layers\n",
    "* Apply a Flatten Layer\n",
    "* Apply 1, 2, or 3 Fully Connected Layers\n",
    "* Apply an Output Layer\n",
    "* Return the output\n",
    "* Apply [TensorFlow's Dropout](https://www.tensorflow.org/api_docs/python/tf/nn/dropout) to one or more layers in the model using `keep_prob`. "
   ]
  },
  {
   "cell_type": "code",
   "execution_count": 299,
   "metadata": {
    "collapsed": false
   },
   "outputs": [
    {
     "name": "stdout",
     "output_type": "stream",
     "text": [
      "Size of image:  (?, 32, 32, 3)\n",
      "Size after 1st conv:  (?, 16, 16, 32)\n",
      "Size after 2nd conv:  (?, 8, 8, 96)\n",
      "Size after 3nd conv:  (?, 4, 4, 256)\n",
      "Size after fully connected 1:  (?, 400)\n",
      "Size after fully connected 2:  (?, 400)\n",
      "Size of image:  (?, 32, 32, 3)\n",
      "Size after 1st conv:  (?, 16, 16, 32)\n",
      "Size after 2nd conv:  (?, 8, 8, 96)\n",
      "Size after 3nd conv:  (?, 4, 4, 256)\n",
      "Size after fully connected 1:  (?, 400)\n",
      "Size after fully connected 2:  (?, 400)\n",
      "Neural Network Built!\n"
     ]
    }
   ],
   "source": [
    "def conv_net(x, keep_prob):\n",
    "    \"\"\"\n",
    "    Create a convolutional neural network model\n",
    "    : x: Placeholder tensor that holds image data.\n",
    "    : keep_prob: Placeholder tensor that hold dropout keep probability.\n",
    "    : return: Tensor that represents logits\n",
    "    \"\"\"\n",
    "    #hyperparameters\n",
    "    k1_size = [2,2] \n",
    "    conv1_num_outputs = 32\n",
    "    strides_1 = [1,1]\n",
    "    pool_ksize_1 = [2,2]\n",
    "    pool_strides_1 = [2,2]\n",
    "    \n",
    "    k2_size = [2,2] \n",
    "    conv2_num_outputs = 96\n",
    "    strides_2 = [1,1]\n",
    "    pool_ksize_2 = [2,2]\n",
    "    pool_strides_2 = [2,2]\n",
    "    \n",
    "    k3_size = [2,2] \n",
    "    conv3_num_outputs = 256\n",
    "    strides_3 = [1,1]\n",
    "    pool_ksize_3 = [2,2]\n",
    "    pool_strides_3 = [2,2]\n",
    "\n",
    "    # TODO: Apply 1, 2, or 3 Convolution and Max Pool layers\n",
    "    #    Play around with different number of outputs, kernel size and stride\n",
    "    # Function Definition from Above:\n",
    "    \n",
    "    #    conv2d_maxpool(x_tensor, conv_num_outputs, conv_ksize, conv_strides, pool_ksize, pool_strides)\n",
    "    \n",
    "    #build conv size \n",
    "    print('Size of image: ', x.get_shape())\n",
    "    conv1 = conv2d_maxpool(x, conv1_num_outputs, k1_size, strides_1, pool_ksize_1, pool_strides_1)\n",
    "    print('Size after 1st conv: ', conv1.get_shape())\n",
    "\n",
    "    conv2 = conv2d_maxpool(conv1, conv2_num_outputs, k2_size, strides_2, pool_ksize_2, pool_strides_2)\n",
    "    print('Size after 2nd conv: ', conv2.get_shape())\n",
    "    \n",
    "    conv3 = conv2d_maxpool(conv2, conv3_num_outputs, k3_size, strides_3, pool_ksize_3, pool_strides_3)\n",
    "    print('Size after 3nd conv: ', conv3.get_shape())\n",
    "    \n",
    "\n",
    "    # TODO: Apply a Flatten Layer\n",
    "    # Function Definition from Above:\n",
    "    #   flatten(x_tensor)\n",
    "    fc1 = flatten(conv3)\n",
    "\n",
    "    # TODO: Apply 1, 2, or 3 Fully Connected Layers\n",
    "    #    Play around with different number of outputs\n",
    "    # Function Definition from Above:\n",
    "    #   fully_conn(x_tensor, num_outputs)\n",
    "    num_outputs_1 = 400\n",
    "    \n",
    "    fc1 = fully_conn(fc1, num_outputs_1)\n",
    "    print('Size after fully connected 1: ', fc1.get_shape())\n",
    "    fc1 = tf.nn.dropout(fc1, keep_prob)\n",
    "    \n",
    "    num_outputs_2 = 400\n",
    "    \n",
    "    fc2 = fully_conn(fc1, num_outputs_2)\n",
    "    print('Size after fully connected 2: ', fc2.get_shape())\n",
    "    fc2 = tf.nn.dropout(fc2, keep_prob)\n",
    "\n",
    "\n",
    "    # TODO: Apply an Output Layer\n",
    "    #    Set this to the number of classes\n",
    "    # Function Definition from Above:\n",
    "    #   output(x_tensor, num_outputs)\n",
    "    \n",
    "    \n",
    "    # TODO: return output\n",
    "    \n",
    "    return output(fc2,10)\n",
    "\n",
    "\n",
    "\"\"\"\n",
    "DON'T MODIFY ANYTHING IN THIS CELL THAT IS BELOW THIS LINE\n",
    "\"\"\"\n",
    "\n",
    "##############################\n",
    "## Build the Neural Network ##\n",
    "##############################\n",
    "\n",
    "# Remove previous weights, bias, inputs, etc..\n",
    "tf.reset_default_graph()\n",
    "\n",
    "# Inputs\n",
    "x = neural_net_image_input((32, 32, 3))\n",
    "y = neural_net_label_input(10)\n",
    "keep_prob = neural_net_keep_prob_input()\n",
    "\n",
    "# Model\n",
    "logits = conv_net(x, keep_prob)\n",
    "\n",
    "# Name logits Tensor, so that is can be loaded from disk after training\n",
    "logits = tf.identity(logits, name='logits')\n",
    "\n",
    "# Loss and Optimizer\n",
    "cost = tf.reduce_mean(tf.nn.softmax_cross_entropy_with_logits(logits=logits, labels=y))\n",
    "optimizer = tf.train.AdamOptimizer().minimize(cost)\n",
    "\n",
    "# Accuracy\n",
    "correct_pred = tf.equal(tf.argmax(logits, 1), tf.argmax(y, 1))\n",
    "accuracy = tf.reduce_mean(tf.cast(correct_pred, tf.float32), name='accuracy')\n",
    "\n",
    "tests.test_conv_net(conv_net)"
   ]
  },
  {
   "cell_type": "markdown",
   "metadata": {},
   "source": [
    "## Train the Neural Network\n",
    "### Single Optimization\n",
    "Implement the function `train_neural_network` to do a single optimization.  The optimization should use `optimizer` to optimize in `session` with a `feed_dict` of the following:\n",
    "* `x` for image input\n",
    "* `y` for labels\n",
    "* `keep_prob` for keep probability for dropout\n",
    "\n",
    "This function will be called for each batch, so `tf.global_variables_initializer()` has already been called.\n",
    "\n",
    "Note: Nothing needs to be returned. This function is only optimizing the neural network."
   ]
  },
  {
   "cell_type": "code",
   "execution_count": 252,
   "metadata": {
    "collapsed": false
   },
   "outputs": [
    {
     "name": "stdout",
     "output_type": "stream",
     "text": [
      "Tests Passed\n"
     ]
    }
   ],
   "source": [
    "def train_neural_network(session, optimizer, keep_probability, feature_batch, label_batch):\n",
    "    \"\"\"\n",
    "    Optimize the session on a batch of images and labels\n",
    "    : session: Current TensorFlow session\n",
    "    : optimizer: TensorFlow optimizer function\n",
    "    : keep_probability: keep probability\n",
    "    : feature_batch: Batch of Numpy image data\n",
    "    : label_batch: Batch of Numpy label data\n",
    "    \"\"\"\n",
    "    session.run(optimizer, feed_dict={x: feature_batch, y: label_batch, keep_prob: keep_probability})\n",
    "\n",
    "\n",
    "\"\"\"\n",
    "DON'T MODIFY ANYTHING IN THIS CELL THAT IS BELOW THIS LINE\n",
    "\"\"\"\n",
    "tests.test_train_nn(train_neural_network)"
   ]
  },
  {
   "cell_type": "markdown",
   "metadata": {},
   "source": [
    "### Show Stats\n",
    "Implement the function `print_stats` to print loss and validation accuracy.  Use the global variables `valid_features` and `valid_labels` to calculate validation accuracy.  Use a keep probability of `1.0` to calculate the loss and validation accuracy."
   ]
  },
  {
   "cell_type": "code",
   "execution_count": 253,
   "metadata": {
    "collapsed": false
   },
   "outputs": [],
   "source": [
    "def print_stats(session, feature_batch, label_batch, cost, accuracy):\n",
    "    \"\"\"\n",
    "    Print information about loss and validation accuracy\n",
    "    : session: Current TensorFlow session\n",
    "    : feature_batch: Batch of Numpy image data\n",
    "    : label_batch: Batch of Numpy label data\n",
    "    : cost: TensorFlow cost function\n",
    "    : accuracy: TensorFlow accuracy function\n",
    "    \"\"\"\n",
    "    #valid_features, valid_labels\n",
    "    loss = session.run(cost,feed_dict={x: feature_batch, y: label_batch, keep_prob: 1.})\n",
    "    validation_accuracy = session.run(accuracy, feed_dict={x: valid_features, y: valid_labels, keep_prob: 1.})\n",
    "\n",
    "    print('Loss is at: {:>10.4f}, Validation Accuracy is at: {:.6f}'.format(\n",
    "                loss,\n",
    "                validation_accuracy))\n"
   ]
  },
  {
   "cell_type": "markdown",
   "metadata": {},
   "source": [
    "### Hyperparameters\n",
    "Tune the following parameters:\n",
    "* Set `epochs` to the number of iterations until the network stops learning or start overfitting\n",
    "* Set `batch_size` to the highest number that your machine has memory for.  Most people set them to common sizes of memory:\n",
    " * 64\n",
    " * 128\n",
    " * 256\n",
    " * ...\n",
    "* Set `keep_probability` to the probability of keeping a node using dropout"
   ]
  },
  {
   "cell_type": "code",
   "execution_count": 304,
   "metadata": {
    "collapsed": true
   },
   "outputs": [],
   "source": [
    "# TODO: Tune Parameters\n",
    "epochs = 20\n",
    "batch_size = 128\n",
    "keep_probability = 0.5"
   ]
  },
  {
   "cell_type": "markdown",
   "metadata": {},
   "source": [
    "### Train on a Single CIFAR-10 Batch\n",
    "Instead of training the neural network on all the CIFAR-10 batches of data, let's use a single batch. This should save time while you iterate on the model to get a better accuracy.  Once the final validation accuracy is 50% or greater, run the model on all the data in the next section."
   ]
  },
  {
   "cell_type": "code",
   "execution_count": 305,
   "metadata": {
    "collapsed": false
   },
   "outputs": [
    {
     "name": "stdout",
     "output_type": "stream",
     "text": [
      "Checking the Training on a Single Batch...\n",
      "Epoch  1, CIFAR-10 Batch 1:  Loss is at:     2.0783, Validation Accuracy is at: 0.316200\n",
      "Epoch  2, CIFAR-10 Batch 1:  Loss is at:     1.8936, Validation Accuracy is at: 0.376000\n",
      "Epoch  3, CIFAR-10 Batch 1:  Loss is at:     1.7639, Validation Accuracy is at: 0.419200\n",
      "Epoch  4, CIFAR-10 Batch 1:  Loss is at:     1.6221, Validation Accuracy is at: 0.427000\n",
      "Epoch  5, CIFAR-10 Batch 1:  Loss is at:     1.4777, Validation Accuracy is at: 0.482200\n",
      "Epoch  6, CIFAR-10 Batch 1:  Loss is at:     1.3655, Validation Accuracy is at: 0.500800\n",
      "Epoch  7, CIFAR-10 Batch 1:  Loss is at:     1.1787, Validation Accuracy is at: 0.507800\n",
      "Epoch  8, CIFAR-10 Batch 1:  Loss is at:     1.1482, Validation Accuracy is at: 0.515000\n",
      "Epoch  9, CIFAR-10 Batch 1:  Loss is at:     0.9940, Validation Accuracy is at: 0.537800\n",
      "Epoch 10, CIFAR-10 Batch 1:  Loss is at:     0.9017, Validation Accuracy is at: 0.530400\n",
      "Epoch 11, CIFAR-10 Batch 1:  Loss is at:     0.7670, Validation Accuracy is at: 0.540400\n",
      "Epoch 12, CIFAR-10 Batch 1:  Loss is at:     0.6955, Validation Accuracy is at: 0.559400\n",
      "Epoch 13, CIFAR-10 Batch 1:  Loss is at:     0.6337, Validation Accuracy is at: 0.582400\n",
      "Epoch 14, CIFAR-10 Batch 1:  Loss is at:     0.5894, Validation Accuracy is at: 0.589200\n",
      "Epoch 15, CIFAR-10 Batch 1:  Loss is at:     0.5228, Validation Accuracy is at: 0.597400\n",
      "Epoch 16, CIFAR-10 Batch 1:  Loss is at:     0.4375, Validation Accuracy is at: 0.605600\n",
      "Epoch 17, CIFAR-10 Batch 1:  Loss is at:     0.3961, Validation Accuracy is at: 0.612200\n",
      "Epoch 18, CIFAR-10 Batch 1:  Loss is at:     0.3159, Validation Accuracy is at: 0.613200\n",
      "Epoch 19, CIFAR-10 Batch 1:  Loss is at:     0.2586, Validation Accuracy is at: 0.599200\n",
      "Epoch 20, CIFAR-10 Batch 1:  Loss is at:     0.2145, Validation Accuracy is at: 0.612800\n"
     ]
    }
   ],
   "source": [
    "\"\"\"\n",
    "DON'T MODIFY ANYTHING IN THIS CELL\n",
    "\"\"\"\n",
    "print('Checking the Training on a Single Batch...')\n",
    "with tf.Session() as sess:\n",
    "    # Initializing the variables\n",
    "    sess.run(tf.global_variables_initializer())\n",
    "    \n",
    "    # Training cycle\n",
    "    for epoch in range(epochs):\n",
    "        batch_i = 1\n",
    "        for batch_features, batch_labels in helper.load_preprocess_training_batch(batch_i, batch_size):\n",
    "            train_neural_network(sess, optimizer, keep_probability, batch_features, batch_labels)\n",
    "        print('Epoch {:>2}, CIFAR-10 Batch {}:  '.format(epoch + 1, batch_i), end='')\n",
    "        print_stats(sess, batch_features, batch_labels, cost, accuracy)"
   ]
  },
  {
   "cell_type": "markdown",
   "metadata": {},
   "source": [
    "### Fully Train the Model\n",
    "Now that you got a good accuracy with a single CIFAR-10 batch, try it with all five batches."
   ]
  },
  {
   "cell_type": "code",
   "execution_count": 306,
   "metadata": {
    "collapsed": false
   },
   "outputs": [
    {
     "name": "stdout",
     "output_type": "stream",
     "text": [
      "Training...\n",
      "Epoch  1, CIFAR-10 Batch 1:  Loss is at:     2.1741, Validation Accuracy is at: 0.269400\n",
      "Epoch  1, CIFAR-10 Batch 2:  Loss is at:     1.8636, Validation Accuracy is at: 0.347600\n",
      "Epoch  1, CIFAR-10 Batch 3:  Loss is at:     1.5636, Validation Accuracy is at: 0.392000\n",
      "Epoch  1, CIFAR-10 Batch 4:  Loss is at:     1.5130, Validation Accuracy is at: 0.447400\n",
      "Epoch  1, CIFAR-10 Batch 5:  Loss is at:     1.5128, Validation Accuracy is at: 0.467200\n",
      "Epoch  2, CIFAR-10 Batch 1:  Loss is at:     1.6058, Validation Accuracy is at: 0.495400\n",
      "Epoch  2, CIFAR-10 Batch 2:  Loss is at:     1.2697, Validation Accuracy is at: 0.497000\n",
      "Epoch  2, CIFAR-10 Batch 3:  Loss is at:     1.1105, Validation Accuracy is at: 0.515800\n",
      "Epoch  2, CIFAR-10 Batch 4:  Loss is at:     1.2182, Validation Accuracy is at: 0.545200\n",
      "Epoch  2, CIFAR-10 Batch 5:  Loss is at:     1.2479, Validation Accuracy is at: 0.555800\n",
      "Epoch  3, CIFAR-10 Batch 1:  Loss is at:     1.3678, Validation Accuracy is at: 0.561800\n",
      "Epoch  3, CIFAR-10 Batch 2:  Loss is at:     1.0805, Validation Accuracy is at: 0.572800\n",
      "Epoch  3, CIFAR-10 Batch 3:  Loss is at:     1.0020, Validation Accuracy is at: 0.571800\n",
      "Epoch  3, CIFAR-10 Batch 4:  Loss is at:     1.0212, Validation Accuracy is at: 0.591000\n",
      "Epoch  3, CIFAR-10 Batch 5:  Loss is at:     1.0689, Validation Accuracy is at: 0.609400\n",
      "Epoch  4, CIFAR-10 Batch 1:  Loss is at:     1.0939, Validation Accuracy is at: 0.615600\n",
      "Epoch  4, CIFAR-10 Batch 2:  Loss is at:     0.8934, Validation Accuracy is at: 0.625600\n",
      "Epoch  4, CIFAR-10 Batch 3:  Loss is at:     0.9055, Validation Accuracy is at: 0.618200\n",
      "Epoch  4, CIFAR-10 Batch 4:  Loss is at:     0.8263, Validation Accuracy is at: 0.645600\n",
      "Epoch  4, CIFAR-10 Batch 5:  Loss is at:     0.8800, Validation Accuracy is at: 0.632400\n",
      "Epoch  5, CIFAR-10 Batch 1:  Loss is at:     0.9052, Validation Accuracy is at: 0.659200\n",
      "Epoch  5, CIFAR-10 Batch 2:  Loss is at:     0.8907, Validation Accuracy is at: 0.652800\n",
      "Epoch  5, CIFAR-10 Batch 3:  Loss is at:     0.7451, Validation Accuracy is at: 0.649000\n",
      "Epoch  5, CIFAR-10 Batch 4:  Loss is at:     0.6887, Validation Accuracy is at: 0.669800\n",
      "Epoch  5, CIFAR-10 Batch 5:  Loss is at:     0.7289, Validation Accuracy is at: 0.655200\n",
      "Epoch  6, CIFAR-10 Batch 1:  Loss is at:     0.7219, Validation Accuracy is at: 0.675800\n",
      "Epoch  6, CIFAR-10 Batch 2:  Loss is at:     0.7039, Validation Accuracy is at: 0.668800\n",
      "Epoch  6, CIFAR-10 Batch 3:  Loss is at:     0.5956, Validation Accuracy is at: 0.677800\n",
      "Epoch  6, CIFAR-10 Batch 4:  Loss is at:     0.6638, Validation Accuracy is at: 0.685800\n",
      "Epoch  6, CIFAR-10 Batch 5:  Loss is at:     0.5627, Validation Accuracy is at: 0.689000\n",
      "Epoch  7, CIFAR-10 Batch 1:  Loss is at:     0.6541, Validation Accuracy is at: 0.695000\n",
      "Epoch  7, CIFAR-10 Batch 2:  Loss is at:     0.5898, Validation Accuracy is at: 0.680800\n",
      "Epoch  7, CIFAR-10 Batch 3:  Loss is at:     0.4859, Validation Accuracy is at: 0.688600\n",
      "Epoch  7, CIFAR-10 Batch 4:  Loss is at:     0.5288, Validation Accuracy is at: 0.691000\n",
      "Epoch  7, CIFAR-10 Batch 5:  Loss is at:     0.4917, Validation Accuracy is at: 0.693600\n",
      "Epoch  8, CIFAR-10 Batch 1:  Loss is at:     0.5530, Validation Accuracy is at: 0.688400\n",
      "Epoch  8, CIFAR-10 Batch 2:  Loss is at:     0.5508, Validation Accuracy is at: 0.697800\n",
      "Epoch  8, CIFAR-10 Batch 3:  Loss is at:     0.3357, Validation Accuracy is at: 0.708000\n",
      "Epoch  8, CIFAR-10 Batch 4:  Loss is at:     0.4001, Validation Accuracy is at: 0.706400\n",
      "Epoch  8, CIFAR-10 Batch 5:  Loss is at:     0.4334, Validation Accuracy is at: 0.691400\n",
      "Epoch  9, CIFAR-10 Batch 1:  Loss is at:     0.5071, Validation Accuracy is at: 0.705800\n",
      "Epoch  9, CIFAR-10 Batch 2:  Loss is at:     0.3978, Validation Accuracy is at: 0.714800\n",
      "Epoch  9, CIFAR-10 Batch 3:  Loss is at:     0.2945, Validation Accuracy is at: 0.720600\n",
      "Epoch  9, CIFAR-10 Batch 4:  Loss is at:     0.3156, Validation Accuracy is at: 0.715200\n",
      "Epoch  9, CIFAR-10 Batch 5:  Loss is at:     0.3613, Validation Accuracy is at: 0.707200\n",
      "Epoch 10, CIFAR-10 Batch 1:  Loss is at:     0.3647, Validation Accuracy is at: 0.713600\n",
      "Epoch 10, CIFAR-10 Batch 2:  Loss is at:     0.3755, Validation Accuracy is at: 0.719400\n",
      "Epoch 10, CIFAR-10 Batch 3:  Loss is at:     0.2442, Validation Accuracy is at: 0.725400\n",
      "Epoch 10, CIFAR-10 Batch 4:  Loss is at:     0.2714, Validation Accuracy is at: 0.717400\n",
      "Epoch 10, CIFAR-10 Batch 5:  Loss is at:     0.2834, Validation Accuracy is at: 0.712200\n",
      "Epoch 11, CIFAR-10 Batch 1:  Loss is at:     0.3451, Validation Accuracy is at: 0.713000\n",
      "Epoch 11, CIFAR-10 Batch 2:  Loss is at:     0.3598, Validation Accuracy is at: 0.715800\n",
      "Epoch 11, CIFAR-10 Batch 3:  Loss is at:     0.1972, Validation Accuracy is at: 0.716600\n",
      "Epoch 11, CIFAR-10 Batch 4:  Loss is at:     0.2045, Validation Accuracy is at: 0.726400\n",
      "Epoch 11, CIFAR-10 Batch 5:  Loss is at:     0.2537, Validation Accuracy is at: 0.715800\n",
      "Epoch 12, CIFAR-10 Batch 1:  Loss is at:     0.2896, Validation Accuracy is at: 0.719200\n",
      "Epoch 12, CIFAR-10 Batch 2:  Loss is at:     0.2445, Validation Accuracy is at: 0.727400\n",
      "Epoch 12, CIFAR-10 Batch 3:  Loss is at:     0.1366, Validation Accuracy is at: 0.728000\n",
      "Epoch 12, CIFAR-10 Batch 4:  Loss is at:     0.1865, Validation Accuracy is at: 0.729600\n",
      "Epoch 12, CIFAR-10 Batch 5:  Loss is at:     0.1898, Validation Accuracy is at: 0.708000\n",
      "Epoch 13, CIFAR-10 Batch 1:  Loss is at:     0.2490, Validation Accuracy is at: 0.724000\n",
      "Epoch 13, CIFAR-10 Batch 2:  Loss is at:     0.2306, Validation Accuracy is at: 0.725200\n",
      "Epoch 13, CIFAR-10 Batch 3:  Loss is at:     0.1238, Validation Accuracy is at: 0.727800\n",
      "Epoch 13, CIFAR-10 Batch 4:  Loss is at:     0.1635, Validation Accuracy is at: 0.734400\n",
      "Epoch 13, CIFAR-10 Batch 5:  Loss is at:     0.1352, Validation Accuracy is at: 0.722800\n",
      "Epoch 14, CIFAR-10 Batch 1:  Loss is at:     0.2492, Validation Accuracy is at: 0.722000\n",
      "Epoch 14, CIFAR-10 Batch 2:  Loss is at:     0.2084, Validation Accuracy is at: 0.732600\n",
      "Epoch 14, CIFAR-10 Batch 3:  Loss is at:     0.1143, Validation Accuracy is at: 0.741600\n",
      "Epoch 14, CIFAR-10 Batch 4:  Loss is at:     0.1305, Validation Accuracy is at: 0.727200\n",
      "Epoch 14, CIFAR-10 Batch 5:  Loss is at:     0.1096, Validation Accuracy is at: 0.727400\n",
      "Epoch 15, CIFAR-10 Batch 1:  Loss is at:     0.2162, Validation Accuracy is at: 0.740000\n",
      "Epoch 15, CIFAR-10 Batch 2:  Loss is at:     0.1567, Validation Accuracy is at: 0.727000\n",
      "Epoch 15, CIFAR-10 Batch 3:  Loss is at:     0.1011, Validation Accuracy is at: 0.735200\n",
      "Epoch 15, CIFAR-10 Batch 4:  Loss is at:     0.1384, Validation Accuracy is at: 0.731000\n",
      "Epoch 15, CIFAR-10 Batch 5:  Loss is at:     0.1012, Validation Accuracy is at: 0.724600\n",
      "Epoch 16, CIFAR-10 Batch 1:  Loss is at:     0.2181, Validation Accuracy is at: 0.738800\n",
      "Epoch 16, CIFAR-10 Batch 2:  Loss is at:     0.1608, Validation Accuracy is at: 0.732200\n",
      "Epoch 16, CIFAR-10 Batch 3:  Loss is at:     0.0663, Validation Accuracy is at: 0.751400\n",
      "Epoch 16, CIFAR-10 Batch 4:  Loss is at:     0.0854, Validation Accuracy is at: 0.739800\n",
      "Epoch 16, CIFAR-10 Batch 5:  Loss is at:     0.0993, Validation Accuracy is at: 0.721400\n",
      "Epoch 17, CIFAR-10 Batch 1:  Loss is at:     0.1620, Validation Accuracy is at: 0.730000\n",
      "Epoch 17, CIFAR-10 Batch 2:  Loss is at:     0.0868, Validation Accuracy is at: 0.744400\n",
      "Epoch 17, CIFAR-10 Batch 3:  Loss is at:     0.0694, Validation Accuracy is at: 0.741000\n",
      "Epoch 17, CIFAR-10 Batch 4:  Loss is at:     0.1263, Validation Accuracy is at: 0.735800\n",
      "Epoch 17, CIFAR-10 Batch 5:  Loss is at:     0.0542, Validation Accuracy is at: 0.717000\n",
      "Epoch 18, CIFAR-10 Batch 1:  Loss is at:     0.1107, Validation Accuracy is at: 0.736800\n",
      "Epoch 18, CIFAR-10 Batch 2:  Loss is at:     0.0884, Validation Accuracy is at: 0.726800\n",
      "Epoch 18, CIFAR-10 Batch 3:  Loss is at:     0.0630, Validation Accuracy is at: 0.741200\n",
      "Epoch 18, CIFAR-10 Batch 4:  Loss is at:     0.0628, Validation Accuracy is at: 0.738200\n",
      "Epoch 18, CIFAR-10 Batch 5:  Loss is at:     0.0575, Validation Accuracy is at: 0.732000\n",
      "Epoch 19, CIFAR-10 Batch 1:  Loss is at:     0.1316, Validation Accuracy is at: 0.731200\n",
      "Epoch 19, CIFAR-10 Batch 2:  Loss is at:     0.0656, Validation Accuracy is at: 0.737400\n",
      "Epoch 19, CIFAR-10 Batch 3:  Loss is at:     0.0572, Validation Accuracy is at: 0.734000\n",
      "Epoch 19, CIFAR-10 Batch 4:  Loss is at:     0.0505, Validation Accuracy is at: 0.734000\n",
      "Epoch 19, CIFAR-10 Batch 5:  Loss is at:     0.0730, Validation Accuracy is at: 0.748000\n",
      "Epoch 20, CIFAR-10 Batch 1:  Loss is at:     0.1067, Validation Accuracy is at: 0.730400\n",
      "Epoch 20, CIFAR-10 Batch 2:  Loss is at:     0.0564, Validation Accuracy is at: 0.726400\n",
      "Epoch 20, CIFAR-10 Batch 3:  Loss is at:     0.0406, Validation Accuracy is at: 0.736200\n",
      "Epoch 20, CIFAR-10 Batch 4:  Loss is at:     0.0531, Validation Accuracy is at: 0.721200\n",
      "Epoch 20, CIFAR-10 Batch 5:  Loss is at:     0.0381, Validation Accuracy is at: 0.742000\n"
     ]
    }
   ],
   "source": [
    "\"\"\"\n",
    "DON'T MODIFY ANYTHING IN THIS CELL\n",
    "\"\"\"\n",
    "save_model_path = './image_classification'\n",
    "\n",
    "print('Training...')\n",
    "with tf.Session() as sess:\n",
    "    # Initializing the variables\n",
    "    sess.run(tf.global_variables_initializer())\n",
    "    \n",
    "    # Training cycle\n",
    "    for epoch in range(epochs):\n",
    "        # Loop over all batches\n",
    "        n_batches = 5\n",
    "        for batch_i in range(1, n_batches + 1):\n",
    "            for batch_features, batch_labels in helper.load_preprocess_training_batch(batch_i, batch_size):\n",
    "                train_neural_network(sess, optimizer, keep_probability, batch_features, batch_labels)\n",
    "            print('Epoch {:>2}, CIFAR-10 Batch {}:  '.format(epoch + 1, batch_i), end='')\n",
    "            print_stats(sess, batch_features, batch_labels, cost, accuracy)\n",
    "            \n",
    "    # Save Model\n",
    "    saver = tf.train.Saver()\n",
    "    save_path = saver.save(sess, save_model_path)"
   ]
  },
  {
   "cell_type": "markdown",
   "metadata": {},
   "source": [
    "# Checkpoint\n",
    "The model has been saved to disk.\n",
    "## Test Model\n",
    "Test your model against the test dataset.  This will be your final accuracy. You should have an accuracy greater than 50%. If you don't, keep tweaking the model architecture and parameters."
   ]
  },
  {
   "cell_type": "code",
   "execution_count": 307,
   "metadata": {
    "collapsed": false
   },
   "outputs": [
    {
     "name": "stdout",
     "output_type": "stream",
     "text": [
      "Testing Accuracy: 0.7419897151898734\n",
      "\n"
     ]
    },
    {
     "data": {
      "image/png": "[encoded data removed]",
      "text/plain": [
       "<matplotlib.figure.Figure at 0x129ef1b70>"
      ]
     },
     "metadata": {
      "image/png": {
       "height": 319,
       "width": 355
      }
     },
     "output_type": "display_data"
    }
   ],
   "source": [
    "\"\"\"\n",
    "DON'T MODIFY ANYTHING IN THIS CELL\n",
    "\"\"\"\n",
    "%matplotlib inline\n",
    "%config InlineBackend.figure_format = 'retina'\n",
    "\n",
    "import tensorflow as tf\n",
    "import pickle\n",
    "import helper\n",
    "import random\n",
    "\n",
    "# Set batch size if not already set\n",
    "try:\n",
    "    if batch_size:\n",
    "        pass\n",
    "except NameError:\n",
    "    batch_size = 64\n",
    "\n",
    "save_model_path = './image_classification'\n",
    "n_samples = 4\n",
    "top_n_predictions = 3\n",
    "\n",
    "def test_model():\n",
    "    \"\"\"\n",
    "    Test the saved model against the test dataset\n",
    "    \"\"\"\n",
    "\n",
    "    test_features, test_labels = pickle.load(open('preprocess_training.p', mode='rb'))\n",
    "    loaded_graph = tf.Graph()\n",
    "\n",
    "    with tf.Session(graph=loaded_graph) as sess:\n",
    "        # Load model\n",
    "        loader = tf.train.import_meta_graph(save_model_path + '.meta')\n",
    "        loader.restore(sess, save_model_path)\n",
    "\n",
    "        # Get Tensors from loaded model\n",
    "        loaded_x = loaded_graph.get_tensor_by_name('x:0')\n",
    "        loaded_y = loaded_graph.get_tensor_by_name('y:0')\n",
    "        loaded_keep_prob = loaded_graph.get_tensor_by_name('keep_prob:0')\n",
    "        loaded_logits = loaded_graph.get_tensor_by_name('logits:0')\n",
    "        loaded_acc = loaded_graph.get_tensor_by_name('accuracy:0')\n",
    "        \n",
    "        # Get accuracy in batches for memory limitations\n",
    "        test_batch_acc_total = 0\n",
    "        test_batch_count = 0\n",
    "        \n",
    "        for train_feature_batch, train_label_batch in helper.batch_features_labels(test_features, test_labels, batch_size):\n",
    "            test_batch_acc_total += sess.run(\n",
    "                loaded_acc,\n",
    "                feed_dict={loaded_x: train_feature_batch, loaded_y: train_label_batch, loaded_keep_prob: 1.0})\n",
    "            test_batch_count += 1\n",
    "\n",
    "        print('Testing Accuracy: {}\\n'.format(test_batch_acc_total/test_batch_count))\n",
    "\n",
    "        # Print Random Samples\n",
    "        random_test_features, random_test_labels = tuple(zip(*random.sample(list(zip(test_features, test_labels)), n_samples)))\n",
    "        random_test_predictions = sess.run(\n",
    "            tf.nn.top_k(tf.nn.softmax(loaded_logits), top_n_predictions),\n",
    "            feed_dict={loaded_x: random_test_features, loaded_y: random_test_labels, loaded_keep_prob: 1.0})\n",
    "        helper.display_image_predictions(random_test_features, random_test_labels, random_test_predictions)\n",
    "\n",
    "\n",
    "test_model()"
   ]
  },
  {
   "cell_type": "markdown",
   "metadata": {},
   "source": [
    "## Why 50-70% Accuracy?\n",
    "You might be wondering why you can't get an accuracy any higher. First things first, 50% isn't bad for a simple CNN.  Pure guessing would get you 10% accuracy. However, you might notice people are getting scores [well above 70%](http://rodrigob.github.io/are_we_there_yet/build/classification_datasets_results.html#43494641522d3130).  That's because we haven't taught you all there is to know about neural networks. We still need to cover a few more techniques.\n",
    "## Submitting This Project\n",
    "When submitting this project, make sure to run all the cells before saving the notebook.  Save the notebook file as \"dlnd_image_classification.ipynb\" and save it as a HTML file under \"File\" -> \"Download as\".  Include the \"helper.py\" and \"problem_unittests.py\" files in your submission."
   ]
  }
 ],
 "metadata": {
  "kernelspec": {
   "display_name": "Python 3",
   "language": "python",
   "name": "python3"
  },
  "language_info": {
   "codemirror_mode": {
    "name": "ipython",
    "version": 3
   },
   "file_extension": ".py",
   "mimetype": "text/x-python",
   "name": "python",
   "nbconvert_exporter": "python",
   "pygments_lexer": "ipython3",
   "version": "3.6.0"
  }
 },
 "nbformat": 4,
 "nbformat_minor": 0
}
